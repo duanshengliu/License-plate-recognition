{
 "cells": [
  {
   "cell_type": "code",
   "execution_count": null,
   "metadata": {
    "scrolled": true
   },
   "outputs": [],
   "source": [
    "import os\n",
    "import numpy as np\n",
    "import pandas as pd\n",
    "import matplotlib.pyplot as plt\n",
    "import tensorflow as tf\n",
    "from tensorflow.keras import layers,models,losses\n",
    "import cv2"
   ]
  },
  {
   "cell_type": "code",
   "execution_count": null,
   "metadata": {},
   "outputs": [],
   "source": [
    "chinese_valid=pd.read_csv('./car/validation/chinese.csv')\n",
    "chinese_train=pd.read_csv('./car/training/chinese.csv')\n",
    "# chinese_train"
   ]
  },
  {
   "cell_type": "code",
   "execution_count": null,
   "metadata": {},
   "outputs": [],
   "source": [
    "x_train,y_train=chinese_train.values[:,0:-1]/255,chinese_train.values[:,-1]#/255归一化很重要\n",
    "x_valid,y_valid=chinese_valid.values[:,0:-1]/255,chinese_valid.values[:,-1]\n",
    "chinese_label=np.array(['京','闽','粤','苏','沪','浙'])\n",
    "# x_train=x_train.reshape(-1,40,32,1)\n",
    "# x_valid=x_valid.reshape(-1,40,32,1)\n",
    "print(chinese_label.size)\n",
    "print(x_train.shape)\n",
    "print(y_train.shape)"
   ]
  },
  {
   "cell_type": "code",
   "execution_count": null,
   "metadata": {},
   "outputs": [],
   "source": [
    "model_c=models.Sequential([\n",
    "    layers.Dense(300,activation='relu',input_shape=[1280,]),\n",
    "    layers.Dense(100,activation='relu'),                     \n",
    "    layers.Dense(6,activation='softmax')    \n",
    "])\n",
    "model_c.summary()"
   ]
  },
  {
   "cell_type": "code",
   "execution_count": null,
   "metadata": {},
   "outputs": [],
   "source": [
    "model_c.compile(optimizer=tf.keras.optimizers.Adam(lr=0.001),\n",
    "               loss=tf.keras.losses.sparse_categorical_crossentropy,\n",
    "               metrics=['accuracy'])"
   ]
  },
  {
   "cell_type": "code",
   "execution_count": null,
   "metadata": {},
   "outputs": [],
   "source": [
    "epochs=10\n",
    "history=model_c.fit(x_train,y_train,epochs=epochs,validation_data=(x_valid,y_valid))"
   ]
  },
  {
   "cell_type": "code",
   "execution_count": null,
   "metadata": {
    "scrolled": true
   },
   "outputs": [],
   "source": [
    "model_c.save('./model_c.h5')"
   ]
  }
 ],
 "metadata": {
  "kernelspec": {
   "display_name": "Python 3",
   "language": "python",
   "name": "python3"
  },
  "language_info": {
   "codemirror_mode": {
    "name": "ipython",
    "version": 3
   },
   "file_extension": ".py",
   "mimetype": "text/x-python",
   "name": "python",
   "nbconvert_exporter": "python",
   "pygments_lexer": "ipython3",
   "version": "3.6.4"
  }
 },
 "nbformat": 4,
 "nbformat_minor": 2
}
