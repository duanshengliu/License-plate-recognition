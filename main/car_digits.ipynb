{
 "cells": [
  {
   "cell_type": "code",
   "execution_count": null,
   "metadata": {
    "scrolled": true
   },
   "outputs": [],
   "source": [
    "import os\n",
    "import numpy as np\n",
    "import pandas as pd\n",
    "import matplotlib.pyplot as plt\n",
    "import tensorflow as tf\n",
    "from tensorflow.keras import layers,models,losses"
   ]
  },
  {
   "cell_type": "code",
   "execution_count": null,
   "metadata": {},
   "outputs": [],
   "source": [
    "digits_train=pd.read_csv('./car/training/digits.csv')\n",
    "digits_valid=pd.read_csv('./car/validation/digits.csv')"
   ]
  },
  {
   "cell_type": "code",
   "execution_count": null,
   "metadata": {},
   "outputs": [],
   "source": [
    "x_train,y_train=digits_train.values[:,0:-1]/255,digits_train.values[:,-1]\n",
    "x_valid,y_valid=digits_valid.values[:,0:-1]/255,digits_valid.values[:,-1]\n",
    "digits_label=np.array([\"0\",\"1\",\"2\",\"3\",\"4\",\"5\",\"6\",\"7\",\"8\",\"9\",\n",
    "                       \"A\",\"B\",\"C\",\"D\",\"E\",\"F\",\"G\",\"H\",\"J\",\"K\",\n",
    "                       \"L\",\"M\",\"N\",\"P\",\"Q\",\"R\",\"S\",\"T\",\"U\",\"V\",\n",
    "                       \"W\",\"X\",\"Y\",\"Z\"])\n",
    "# x_train=x_train.reshape(-1,40,32)\n",
    "# x_valid=x_valid.reshape(-1,40,32)\n",
    "digits_label.size\n",
    "print(x_train.shape)\n",
    "print(y_train.shape)"
   ]
  },
  {
   "cell_type": "code",
   "execution_count": null,
   "metadata": {},
   "outputs": [],
   "source": [
    "model_d=models.Sequential([\n",
    "#     layers.Conv2D(filters=32,kernel_size=(3,3),activation='relu',input_shape=[40,32,1]),\n",
    "#     layers.MaxPool2D(pool_size=(2,2)),\n",
    "#     layers.Conv2D(filters=64,kernel_size=(3,3),activation='relu'),\n",
    "#     layers.Flatten(),\n",
    "    layers.Dense(300,activation='relu',input_shape=[1280,]),\n",
    "    layers.Dense(100,activation='relu'),\n",
    "#     layers.Dropout(0.1),#Droput层0.1丢弃率\n",
    "    layers.Dense(34,activation='softmax')#分为34类包括10个数字(0-9)以及24个英文字母(除去\"I\"和\"O\")\n",
    "])\n",
    "model_d.summary()"
   ]
  },
  {
   "cell_type": "code",
   "execution_count": null,
   "metadata": {},
   "outputs": [],
   "source": [
    "model_d.compile(optimizer=tf.keras.optimizers.Adam(lr=0.001),\n",
    "               loss=losses.sparse_categorical_crossentropy,\n",
    "               metrics=['accuracy'])"
   ]
  },
  {
   "cell_type": "code",
   "execution_count": null,
   "metadata": {},
   "outputs": [],
   "source": [
    "epochs=10\n",
    "history=model_d.fit(x_train,y_train,epochs=epochs,validation_data=(x_valid,y_valid))"
   ]
  },
  {
   "cell_type": "code",
   "execution_count": null,
   "metadata": {
    "scrolled": true
   },
   "outputs": [],
   "source": [
    "# model_d.save('./model_d.h5')"
   ]
  }
 ],
 "metadata": {
  "kernelspec": {
   "display_name": "Python 3",
   "language": "python",
   "name": "python3"
  },
  "language_info": {
   "codemirror_mode": {
    "name": "ipython",
    "version": 3
   },
   "file_extension": ".py",
   "mimetype": "text/x-python",
   "name": "python",
   "nbconvert_exporter": "python",
   "pygments_lexer": "ipython3",
   "version": "3.6.4"
  }
 },
 "nbformat": 4,
 "nbformat_minor": 2
}
